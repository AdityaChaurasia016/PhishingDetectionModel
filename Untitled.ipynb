{
 "cells": [
  {
   "cell_type": "code",
   "execution_count": 23,
   "id": "408ae0a7-53c7-4832-b4c4-0f6e57357a29",
   "metadata": {},
   "outputs": [],
   "source": [
    "import pandas as pd\n",
    "from openai import AzureOpenAI"
   ]
  },
  {
   "cell_type": "code",
   "execution_count": 24,
   "id": "e29be2f4-c422-4d45-adb2-23734dd8d710",
   "metadata": {},
   "outputs": [],
   "source": [
    "import pandas as pd\n",
    "\n",
    "# Read the CSV file\n",
    "df = pd.read_csv('emails.csv')\n",
    "\n",
    "# Display the first 500 rows\n",
    "df = df.head(500)\n",
    "\n",
    "# Select the 'email_body' column\n",
    "df = df[['email_body']]\n"
   ]
  },
  {
   "cell_type": "code",
   "execution_count": 25,
   "id": "83b36bc0-273e-4342-b0a6-4eb2c5821374",
   "metadata": {},
   "outputs": [
    {
     "data": {
      "text/html": [
       "<div>\n",
       "<style scoped>\n",
       "    .dataframe tbody tr th:only-of-type {\n",
       "        vertical-align: middle;\n",
       "    }\n",
       "\n",
       "    .dataframe tbody tr th {\n",
       "        vertical-align: top;\n",
       "    }\n",
       "\n",
       "    .dataframe thead th {\n",
       "        text-align: right;\n",
       "    }\n",
       "</style>\n",
       "<table border=\"1\" class=\"dataframe\">\n",
       "  <thead>\n",
       "    <tr style=\"text-align: right;\">\n",
       "      <th></th>\n",
       "      <th>email_body</th>\n",
       "    </tr>\n",
       "  </thead>\n",
       "  <tbody>\n",
       "    <tr>\n",
       "      <th>0</th>\n",
       "      <td>New sign-in detected from an unknown device. V...</td>\n",
       "    </tr>\n",
       "    <tr>\n",
       "      <th>1</th>\n",
       "      <td>Your credit card statement is ready.</td>\n",
       "    </tr>\n",
       "    <tr>\n",
       "      <th>2</th>\n",
       "      <td>Request to reset your password. Click the link...</td>\n",
       "    </tr>\n",
       "    <tr>\n",
       "      <th>3</th>\n",
       "      <td>Your job application status has been updated.</td>\n",
       "    </tr>\n",
       "    <tr>\n",
       "      <th>4</th>\n",
       "      <td>Important notice regarding your account.</td>\n",
       "    </tr>\n",
       "    <tr>\n",
       "      <th>...</th>\n",
       "      <td>...</td>\n",
       "    </tr>\n",
       "    <tr>\n",
       "      <th>495</th>\n",
       "      <td>You have been selected as a winner! Claim your...</td>\n",
       "    </tr>\n",
       "    <tr>\n",
       "      <th>496</th>\n",
       "      <td>Your package is on its way. Track your delivery.</td>\n",
       "    </tr>\n",
       "    <tr>\n",
       "      <th>497</th>\n",
       "      <td>Your invoice payment is overdue. Please pay now.</td>\n",
       "    </tr>\n",
       "    <tr>\n",
       "      <th>498</th>\n",
       "      <td>Thank you for your order. Your confirmation is...</td>\n",
       "    </tr>\n",
       "    <tr>\n",
       "      <th>499</th>\n",
       "      <td>Request to reset your password. Click the link...</td>\n",
       "    </tr>\n",
       "  </tbody>\n",
       "</table>\n",
       "<p>500 rows × 1 columns</p>\n",
       "</div>"
      ],
      "text/plain": [
       "                                            email_body\n",
       "0    New sign-in detected from an unknown device. V...\n",
       "1                 Your credit card statement is ready.\n",
       "2    Request to reset your password. Click the link...\n",
       "3        Your job application status has been updated.\n",
       "4             Important notice regarding your account.\n",
       "..                                                 ...\n",
       "495  You have been selected as a winner! Claim your...\n",
       "496   Your package is on its way. Track your delivery.\n",
       "497   Your invoice payment is overdue. Please pay now.\n",
       "498  Thank you for your order. Your confirmation is...\n",
       "499  Request to reset your password. Click the link...\n",
       "\n",
       "[500 rows x 1 columns]"
      ]
     },
     "execution_count": 25,
     "metadata": {},
     "output_type": "execute_result"
    }
   ],
   "source": [
    "df"
   ]
  },
  {
   "cell_type": "code",
   "execution_count": 34,
   "id": "15268dbd-625f-4c40-9b0c-4a2ebb6740aa",
   "metadata": {},
   "outputs": [],
   "source": [
    "def openaiChatBot(query):\n",
    "    client = AzureOpenAI(\n",
    "        azure_endpoint=\"https://airtel-azure-openai-test.openai.azure.com/openai/deployments/airtel-gpt4/chat/completions?api-version=2024-02-15-preview\",\n",
    "        api_key=\"4025a6e3f29d40f0bc70b30dec797ed6\",\n",
    "        api_version=\"2024-02-15-preview\"\n",
    "    )\n",
    "\n",
    "    prompt = \"\"\"\n",
    "    \n",
    "Objective: Determine whether a given email is a phishing attempt or a legitimate communication.\n",
    "Prompt:\n",
    "\n",
    "You are an AI model tasked with identifying phishing emails.\n",
    "Your job is to analyze the given email content and determine whether it is a phishing attempt or a genuine email. \n",
    "Phishing emails often contain urgent language, ask for personal information, include suspicious links, or have poor grammar and spelling.\n",
    "Genuine emails, on the other hand, are typically clear, polite, and come from recognizable sources.\n",
    "    \"\"\".format(str())\n",
    "\n",
    "    completion = client.chat.completions.create(\n",
    "        model=\"gpt-4\",\n",
    "        messages=[\n",
    "        {\"role\": \"system\", \"content\": f\"{prompt}\"},\n",
    "        {\"role\": \"user\", \"content\": f\"{query}\"}\n",
    "      ],\n",
    "        temperature=0.1,\n",
    "        max_tokens=800,\n",
    "        top_p=1,\n",
    "        frequency_penalty=0,\n",
    "        presence_penalty=0,\n",
    "        stop=None\n",
    "    )\n",
    "\n",
    "    print(completion.choices[0].message.content)\n",
    "    return completion.choices[0].message.content"
   ]
  },
  {
   "cell_type": "code",
   "execution_count": 35,
   "id": "bc745c1e-7e6e-49ed-ad40-f62f9aec7baa",
   "metadata": {},
   "outputs": [],
   "source": [
    "email_intent = []\n",
    "\n",
    "for i, row in df.iterrows():\n",
    "    try:\n",
    "        email_intent.append(openaiChatBot(row['userText']))\n",
    "    except:\n",
    "         email_intent.append(\"NA\")\n",
    "         continue"
   ]
  },
  {
   "cell_type": "code",
   "execution_count": null,
   "id": "f8b66cd3-6d84-448d-b6f1-f4ffb463004c",
   "metadata": {},
   "outputs": [],
   "source": []
  },
  {
   "cell_type": "code",
   "execution_count": 36,
   "id": "9e0c36fd-3682-4506-a72c-7054e44e813f",
   "metadata": {},
   "outputs": [],
   "source": [
    "df['email_intent'] = email_intent"
   ]
  },
  {
   "cell_type": "code",
   "execution_count": null,
   "id": "897719e7-f7cd-45d8-8b1d-c1b11aba86ca",
   "metadata": {},
   "outputs": [],
   "source": []
  }
 ],
 "metadata": {
  "kernelspec": {
   "display_name": "Python 3 (ipykernel)",
   "language": "python",
   "name": "python3"
  },
  "language_info": {
   "codemirror_mode": {
    "name": "ipython",
    "version": 3
   },
   "file_extension": ".py",
   "mimetype": "text/x-python",
   "name": "python",
   "nbconvert_exporter": "python",
   "pygments_lexer": "ipython3",
   "version": "3.12.4"
  }
 },
 "nbformat": 4,
 "nbformat_minor": 5
}
